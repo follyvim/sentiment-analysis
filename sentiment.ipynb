{
 "cells": [
  {
   "cell_type": "code",
   "execution_count": 1,
   "id": "22d7b2bf-b43d-49c0-b4be-ae34f34c9b79",
   "metadata": {},
   "outputs": [],
   "source": [
    "import pandas as pd\n",
    "import numpy as np\n",
    "from sklearn.preprocessing import LabelEncoder\n",
    "import re\n",
    "from sklearn.metrics import classification_report,accuracy_score,confusion_matrix\n",
    "from sklearn.tree import DecisionTreeClassifier\n",
    "from sklearn.model_selection import train_test_split\n",
    "from sklearn.preprocessing import LabelEncoder,OneHotEncoder\n",
    "from sklearn.naive_bayes import MultinomialNB\n",
    "\n",
    "# df = pd.read_csv('Reddit_Data.csv')\n",
    "df = pd.read_csv('Twitter_Data.csv')\n",
    "# df = pd.merge(data,data1)"
   ]
  },
  {
   "cell_type": "code",
   "execution_count": 2,
   "id": "764ce7fd-0cab-4ff3-99d1-c4bc7c615c85",
   "metadata": {},
   "outputs": [
    {
     "data": {
      "text/html": [
       "<div>\n",
       "<style scoped>\n",
       "    .dataframe tbody tr th:only-of-type {\n",
       "        vertical-align: middle;\n",
       "    }\n",
       "\n",
       "    .dataframe tbody tr th {\n",
       "        vertical-align: top;\n",
       "    }\n",
       "\n",
       "    .dataframe thead th {\n",
       "        text-align: right;\n",
       "    }\n",
       "</style>\n",
       "<table border=\"1\" class=\"dataframe\">\n",
       "  <thead>\n",
       "    <tr style=\"text-align: right;\">\n",
       "      <th></th>\n",
       "      <th>clean_text</th>\n",
       "      <th>category</th>\n",
       "    </tr>\n",
       "  </thead>\n",
       "  <tbody>\n",
       "    <tr>\n",
       "      <th>0</th>\n",
       "      <td>when modi promised “minimum government maximum...</td>\n",
       "      <td>-1.0</td>\n",
       "    </tr>\n",
       "    <tr>\n",
       "      <th>1</th>\n",
       "      <td>talk all the nonsense and continue all the dra...</td>\n",
       "      <td>0.0</td>\n",
       "    </tr>\n",
       "    <tr>\n",
       "      <th>2</th>\n",
       "      <td>what did just say vote for modi  welcome bjp t...</td>\n",
       "      <td>1.0</td>\n",
       "    </tr>\n",
       "    <tr>\n",
       "      <th>3</th>\n",
       "      <td>asking his supporters prefix chowkidar their n...</td>\n",
       "      <td>1.0</td>\n",
       "    </tr>\n",
       "    <tr>\n",
       "      <th>4</th>\n",
       "      <td>answer who among these the most powerful world...</td>\n",
       "      <td>1.0</td>\n",
       "    </tr>\n",
       "  </tbody>\n",
       "</table>\n",
       "</div>"
      ],
      "text/plain": [
       "                                          clean_text  category\n",
       "0  when modi promised “minimum government maximum...      -1.0\n",
       "1  talk all the nonsense and continue all the dra...       0.0\n",
       "2  what did just say vote for modi  welcome bjp t...       1.0\n",
       "3  asking his supporters prefix chowkidar their n...       1.0\n",
       "4  answer who among these the most powerful world...       1.0"
      ]
     },
     "execution_count": 2,
     "metadata": {},
     "output_type": "execute_result"
    }
   ],
   "source": [
    "df.head()"
   ]
  },
  {
   "cell_type": "code",
   "execution_count": 3,
   "id": "15ca0cdd-bbcd-413a-a829-0ddcf445312e",
   "metadata": {},
   "outputs": [
    {
     "data": {
      "text/plain": [
       "(162980, 2)"
      ]
     },
     "execution_count": 3,
     "metadata": {},
     "output_type": "execute_result"
    }
   ],
   "source": [
    "df.shape"
   ]
  },
  {
   "cell_type": "code",
   "execution_count": 4,
   "id": "d036bee8-9ad4-4b53-bdec-c5146196edb6",
   "metadata": {},
   "outputs": [],
   "source": [
    "# df['category'] = str(df['category'])"
   ]
  },
  {
   "cell_type": "code",
   "execution_count": 5,
   "id": "493366d0-250b-4d84-9906-3f08535da761",
   "metadata": {},
   "outputs": [],
   "source": [
    "def remark(i):\n",
    "        if i == -1.0:\n",
    "            return 'Negative'\n",
    "        elif i == 1.0:\n",
    "            return 'Positive'\n",
    "        else:\n",
    "            return 'Neutral'\n",
    "\n"
   ]
  },
  {
   "cell_type": "code",
   "execution_count": 6,
   "id": "a33f0678-ddb8-4305-beaf-023b84bd3a61",
   "metadata": {},
   "outputs": [],
   "source": [
    "df['new'] = df['category']\n",
    "df['new']= df['category'].apply(remark)"
   ]
  },
  {
   "cell_type": "code",
   "execution_count": 7,
   "id": "1398262b-3584-494d-81f9-6078f4fb51d7",
   "metadata": {},
   "outputs": [
    {
     "name": "stdout",
     "output_type": "stream",
     "text": [
      "<class 'pandas.core.frame.DataFrame'>\n",
      "RangeIndex: 162980 entries, 0 to 162979\n",
      "Data columns (total 3 columns):\n",
      " #   Column      Non-Null Count   Dtype  \n",
      "---  ------      --------------   -----  \n",
      " 0   clean_text  162976 non-null  object \n",
      " 1   category    162973 non-null  float64\n",
      " 2   new         162980 non-null  object \n",
      "dtypes: float64(1), object(2)\n",
      "memory usage: 3.7+ MB\n"
     ]
    }
   ],
   "source": [
    "df.info()\n",
    "# df.shape"
   ]
  },
  {
   "cell_type": "code",
   "execution_count": 8,
   "id": "aa5e2718-e0ef-42a4-83f2-51d4204f4dc2",
   "metadata": {},
   "outputs": [
    {
     "data": {
      "text/html": [
       "<div>\n",
       "<style scoped>\n",
       "    .dataframe tbody tr th:only-of-type {\n",
       "        vertical-align: middle;\n",
       "    }\n",
       "\n",
       "    .dataframe tbody tr th {\n",
       "        vertical-align: top;\n",
       "    }\n",
       "\n",
       "    .dataframe thead th {\n",
       "        text-align: right;\n",
       "    }\n",
       "</style>\n",
       "<table border=\"1\" class=\"dataframe\">\n",
       "  <thead>\n",
       "    <tr style=\"text-align: right;\">\n",
       "      <th></th>\n",
       "      <th>clean_text</th>\n",
       "      <th>category</th>\n",
       "      <th>new</th>\n",
       "    </tr>\n",
       "  </thead>\n",
       "  <tbody>\n",
       "    <tr>\n",
       "      <th>0</th>\n",
       "      <td>when modi promised “minimum government maximum...</td>\n",
       "      <td>-1.0</td>\n",
       "      <td>Negative</td>\n",
       "    </tr>\n",
       "    <tr>\n",
       "      <th>1</th>\n",
       "      <td>talk all the nonsense and continue all the dra...</td>\n",
       "      <td>0.0</td>\n",
       "      <td>Neutral</td>\n",
       "    </tr>\n",
       "    <tr>\n",
       "      <th>2</th>\n",
       "      <td>what did just say vote for modi  welcome bjp t...</td>\n",
       "      <td>1.0</td>\n",
       "      <td>Positive</td>\n",
       "    </tr>\n",
       "    <tr>\n",
       "      <th>3</th>\n",
       "      <td>asking his supporters prefix chowkidar their n...</td>\n",
       "      <td>1.0</td>\n",
       "      <td>Positive</td>\n",
       "    </tr>\n",
       "    <tr>\n",
       "      <th>4</th>\n",
       "      <td>answer who among these the most powerful world...</td>\n",
       "      <td>1.0</td>\n",
       "      <td>Positive</td>\n",
       "    </tr>\n",
       "  </tbody>\n",
       "</table>\n",
       "</div>"
      ],
      "text/plain": [
       "                                          clean_text  category       new\n",
       "0  when modi promised “minimum government maximum...      -1.0  Negative\n",
       "1  talk all the nonsense and continue all the dra...       0.0   Neutral\n",
       "2  what did just say vote for modi  welcome bjp t...       1.0  Positive\n",
       "3  asking his supporters prefix chowkidar their n...       1.0  Positive\n",
       "4  answer who among these the most powerful world...       1.0  Positive"
      ]
     },
     "execution_count": 8,
     "metadata": {},
     "output_type": "execute_result"
    }
   ],
   "source": [
    "df.head()"
   ]
  },
  {
   "cell_type": "code",
   "execution_count": 9,
   "id": "51ad5722-a30b-4fc9-a742-1e49cfa598bc",
   "metadata": {},
   "outputs": [
    {
     "data": {
      "text/plain": [
       "array(['Negative', 'Neutral', 'Positive'], dtype=object)"
      ]
     },
     "execution_count": 9,
     "metadata": {},
     "output_type": "execute_result"
    }
   ],
   "source": [
    "df['new'].unique()"
   ]
  },
  {
   "cell_type": "code",
   "execution_count": 10,
   "id": "2728b3e4-a647-441c-b103-dcf98ed95f52",
   "metadata": {},
   "outputs": [
    {
     "data": {
      "text/plain": [
       "clean_text    4\n",
       "category      7\n",
       "new           0\n",
       "dtype: int64"
      ]
     },
     "execution_count": 10,
     "metadata": {},
     "output_type": "execute_result"
    }
   ],
   "source": [
    "df.isnull().sum()"
   ]
  },
  {
   "cell_type": "code",
   "execution_count": null,
   "id": "f48f7292-5949-4899-9dee-3d04f87067d5",
   "metadata": {},
   "outputs": [],
   "source": []
  },
  {
   "cell_type": "code",
   "execution_count": 11,
   "id": "7ba01097-8d59-4fce-aab4-e24e0f4a6412",
   "metadata": {},
   "outputs": [],
   "source": [
    "# df['clean_comment'].isnull().sum()"
   ]
  },
  {
   "cell_type": "code",
   "execution_count": 12,
   "id": "3a9a9a50-ea01-4c17-8202-53aaecdff70a",
   "metadata": {},
   "outputs": [],
   "source": [
    "df = df.dropna(axis=0)"
   ]
  },
  {
   "cell_type": "code",
   "execution_count": 13,
   "id": "45c98dd2-aded-432e-8dab-41d13cd61316",
   "metadata": {},
   "outputs": [],
   "source": [
    "df = df.drop_duplicates()"
   ]
  },
  {
   "cell_type": "code",
   "execution_count": 14,
   "id": "6fba01c8-d831-43b9-bff6-ff70986be8df",
   "metadata": {},
   "outputs": [
    {
     "data": {
      "text/plain": [
       "(162969, 3)"
      ]
     },
     "execution_count": 14,
     "metadata": {},
     "output_type": "execute_result"
    }
   ],
   "source": [
    "df.shape"
   ]
  },
  {
   "cell_type": "code",
   "execution_count": 15,
   "id": "f7b73952-4135-4bf7-b569-4fcee0dd0273",
   "metadata": {},
   "outputs": [],
   "source": [
    "df = df.iloc[:9000]"
   ]
  },
  {
   "cell_type": "code",
   "execution_count": 16,
   "id": "c5283b9e-7638-4e93-a3f1-65102425cd70",
   "metadata": {},
   "outputs": [],
   "source": [
    "X = df[\"clean_text\"]\n",
    "y = df[\"new\"]\n",
    "\n",
    "#Label Encoding to convert it into a numerical form\n",
    "from sklearn.preprocessing import LabelEncoder\n",
    "le = LabelEncoder()\n",
    "y = le.fit_transform(y)"
   ]
  },
  {
   "cell_type": "code",
   "execution_count": 17,
   "id": "b64ae12a-0ec2-493a-8484-b0618d150520",
   "metadata": {},
   "outputs": [],
   "source": [
    "data_list = []\n",
    "for text in X:         \n",
    "    text = re.sub(r'[!@#$(),n\"%^*?:;~`0-9[]]', ' ', text)\n",
    "    text = text.lower()        \n",
    "    data_list.append(text)"
   ]
  },
  {
   "cell_type": "code",
   "execution_count": 18,
   "id": "45f7caa9-1164-495c-99b3-9c8c0602fc05",
   "metadata": {},
   "outputs": [],
   "source": [
    "# print(data_list[:100])"
   ]
  },
  {
   "cell_type": "code",
   "execution_count": 19,
   "id": "776718a4-b984-4d8d-8903-216f04c99653",
   "metadata": {},
   "outputs": [
    {
     "data": {
      "text/plain": [
       "(9000, 18277)"
      ]
     },
     "execution_count": 19,
     "metadata": {},
     "output_type": "execute_result"
    }
   ],
   "source": [
    "from sklearn.feature_extraction.text import CountVectorizer\n",
    "cv = CountVectorizer()\n",
    "X = cv.fit_transform(data_list).toarray()\n",
    "X.shape"
   ]
  },
  {
   "cell_type": "code",
   "execution_count": 20,
   "id": "88606fff-90d6-462f-8845-fe13ca1545aa",
   "metadata": {},
   "outputs": [
    {
     "data": {
      "text/plain": [
       "(9000, 18277)"
      ]
     },
     "execution_count": 20,
     "metadata": {},
     "output_type": "execute_result"
    }
   ],
   "source": [
    "X.shape"
   ]
  },
  {
   "cell_type": "code",
   "execution_count": 21,
   "id": "903c0056-0d18-4df5-a8b6-862e7147d2e6",
   "metadata": {},
   "outputs": [],
   "source": [
    "x_train, x_test, y_train, y_test = train_test_split(X, y, test_size = 0.2, random_state=42)"
   ]
  },
  {
   "cell_type": "code",
   "execution_count": 22,
   "id": "677c1d9d-1bc3-4aaa-ac15-c7d900802491",
   "metadata": {},
   "outputs": [
    {
     "data": {
      "text/plain": [
       "(7200,)"
      ]
     },
     "execution_count": 22,
     "metadata": {},
     "output_type": "execute_result"
    }
   ],
   "source": [
    "y_train.shape"
   ]
  },
  {
   "cell_type": "code",
   "execution_count": 23,
   "id": "ebfe8ab5-5fe6-4f6a-877f-1b6fcc3d2ab1",
   "metadata": {},
   "outputs": [
    {
     "data": {
      "text/plain": [
       "(7200, 18277)"
      ]
     },
     "execution_count": 23,
     "metadata": {},
     "output_type": "execute_result"
    }
   ],
   "source": [
    "x_train.shape"
   ]
  },
  {
   "cell_type": "code",
   "execution_count": 24,
   "id": "27e2247d-4728-4c18-a4ec-a680ad4a98c0",
   "metadata": {},
   "outputs": [
    {
     "data": {
      "text/html": [
       "<style>#sk-container-id-1 {color: black;background-color: white;}#sk-container-id-1 pre{padding: 0;}#sk-container-id-1 div.sk-toggleable {background-color: white;}#sk-container-id-1 label.sk-toggleable__label {cursor: pointer;display: block;width: 100%;margin-bottom: 0;padding: 0.3em;box-sizing: border-box;text-align: center;}#sk-container-id-1 label.sk-toggleable__label-arrow:before {content: \"▸\";float: left;margin-right: 0.25em;color: #696969;}#sk-container-id-1 label.sk-toggleable__label-arrow:hover:before {color: black;}#sk-container-id-1 div.sk-estimator:hover label.sk-toggleable__label-arrow:before {color: black;}#sk-container-id-1 div.sk-toggleable__content {max-height: 0;max-width: 0;overflow: hidden;text-align: left;background-color: #f0f8ff;}#sk-container-id-1 div.sk-toggleable__content pre {margin: 0.2em;color: black;border-radius: 0.25em;background-color: #f0f8ff;}#sk-container-id-1 input.sk-toggleable__control:checked~div.sk-toggleable__content {max-height: 200px;max-width: 100%;overflow: auto;}#sk-container-id-1 input.sk-toggleable__control:checked~label.sk-toggleable__label-arrow:before {content: \"▾\";}#sk-container-id-1 div.sk-estimator input.sk-toggleable__control:checked~label.sk-toggleable__label {background-color: #d4ebff;}#sk-container-id-1 div.sk-label input.sk-toggleable__control:checked~label.sk-toggleable__label {background-color: #d4ebff;}#sk-container-id-1 input.sk-hidden--visually {border: 0;clip: rect(1px 1px 1px 1px);clip: rect(1px, 1px, 1px, 1px);height: 1px;margin: -1px;overflow: hidden;padding: 0;position: absolute;width: 1px;}#sk-container-id-1 div.sk-estimator {font-family: monospace;background-color: #f0f8ff;border: 1px dotted black;border-radius: 0.25em;box-sizing: border-box;margin-bottom: 0.5em;}#sk-container-id-1 div.sk-estimator:hover {background-color: #d4ebff;}#sk-container-id-1 div.sk-parallel-item::after {content: \"\";width: 100%;border-bottom: 1px solid gray;flex-grow: 1;}#sk-container-id-1 div.sk-label:hover label.sk-toggleable__label {background-color: #d4ebff;}#sk-container-id-1 div.sk-serial::before {content: \"\";position: absolute;border-left: 1px solid gray;box-sizing: border-box;top: 0;bottom: 0;left: 50%;z-index: 0;}#sk-container-id-1 div.sk-serial {display: flex;flex-direction: column;align-items: center;background-color: white;padding-right: 0.2em;padding-left: 0.2em;position: relative;}#sk-container-id-1 div.sk-item {position: relative;z-index: 1;}#sk-container-id-1 div.sk-parallel {display: flex;align-items: stretch;justify-content: center;background-color: white;position: relative;}#sk-container-id-1 div.sk-item::before, #sk-container-id-1 div.sk-parallel-item::before {content: \"\";position: absolute;border-left: 1px solid gray;box-sizing: border-box;top: 0;bottom: 0;left: 50%;z-index: -1;}#sk-container-id-1 div.sk-parallel-item {display: flex;flex-direction: column;z-index: 1;position: relative;background-color: white;}#sk-container-id-1 div.sk-parallel-item:first-child::after {align-self: flex-end;width: 50%;}#sk-container-id-1 div.sk-parallel-item:last-child::after {align-self: flex-start;width: 50%;}#sk-container-id-1 div.sk-parallel-item:only-child::after {width: 0;}#sk-container-id-1 div.sk-dashed-wrapped {border: 1px dashed gray;margin: 0 0.4em 0.5em 0.4em;box-sizing: border-box;padding-bottom: 0.4em;background-color: white;}#sk-container-id-1 div.sk-label label {font-family: monospace;font-weight: bold;display: inline-block;line-height: 1.2em;}#sk-container-id-1 div.sk-label-container {text-align: center;}#sk-container-id-1 div.sk-container {/* jupyter's `normalize.less` sets `[hidden] { display: none; }` but bootstrap.min.css set `[hidden] { display: none !important; }` so we also need the `!important` here to be able to override the default hidden behavior on the sphinx rendered scikit-learn.org. See: https://github.com/scikit-learn/scikit-learn/issues/21755 */display: inline-block !important;position: relative;}#sk-container-id-1 div.sk-text-repr-fallback {display: none;}</style><div id=\"sk-container-id-1\" class=\"sk-top-container\"><div class=\"sk-text-repr-fallback\"><pre>DecisionTreeClassifier()</pre><b>In a Jupyter environment, please rerun this cell to show the HTML representation or trust the notebook. <br />On GitHub, the HTML representation is unable to render, please try loading this page with nbviewer.org.</b></div><div class=\"sk-container\" hidden><div class=\"sk-item\"><div class=\"sk-estimator sk-toggleable\"><input class=\"sk-toggleable__control sk-hidden--visually\" id=\"sk-estimator-id-1\" type=\"checkbox\" checked><label for=\"sk-estimator-id-1\" class=\"sk-toggleable__label sk-toggleable__label-arrow\">DecisionTreeClassifier</label><div class=\"sk-toggleable__content\"><pre>DecisionTreeClassifier()</pre></div></div></div></div></div>"
      ],
      "text/plain": [
       "DecisionTreeClassifier()"
      ]
     },
     "execution_count": 24,
     "metadata": {},
     "output_type": "execute_result"
    }
   ],
   "source": [
    "model = DecisionTreeClassifier()\n",
    "model.fit(x_train, y_train)"
   ]
  },
  {
   "cell_type": "code",
   "execution_count": 25,
   "id": "248853fe-e178-47a4-addf-26bb8e04151b",
   "metadata": {},
   "outputs": [],
   "source": [
    "y_pred = model.predict(x_test)"
   ]
  },
  {
   "cell_type": "code",
   "execution_count": 26,
   "id": "2c5d7c6e-7196-4282-bdcd-20c318f70a87",
   "metadata": {},
   "outputs": [
    {
     "name": "stdout",
     "output_type": "stream",
     "text": [
      "0.7466666666666667\n"
     ]
    }
   ],
   "source": [
    "ac = accuracy_score(y_test, y_pred)\n",
    "cm = confusion_matrix(y_test, y_pred)\n",
    "print(ac)"
   ]
  },
  {
   "cell_type": "code",
   "execution_count": 27,
   "id": "ac9a8528-6998-45c2-a737-4ffd5c63d295",
   "metadata": {},
   "outputs": [
    {
     "data": {
      "text/plain": [
       "0.7466666666666667"
      ]
     },
     "execution_count": 27,
     "metadata": {},
     "output_type": "execute_result"
    }
   ],
   "source": [
    "model.score(x_test,y_test)"
   ]
  },
  {
   "cell_type": "code",
   "execution_count": 28,
   "id": "9c02710b-ee0d-4944-a537-19c4ba88baaf",
   "metadata": {},
   "outputs": [
    {
     "data": {
      "text/plain": [
       "1.0"
      ]
     },
     "execution_count": 28,
     "metadata": {},
     "output_type": "execute_result"
    }
   ],
   "source": [
    "model.score(x_train,y_train)"
   ]
  },
  {
   "cell_type": "code",
   "execution_count": 73,
   "id": "5119d28e-7f37-4368-997b-12a081a48ca2",
   "metadata": {},
   "outputs": [],
   "source": [
    "def ValuePredictor(to_predict_list):\n",
    "    to_predict = cv.transform([to_predict_list]).toarray()\n",
    "    loaded_model = pickle.load(open(\"sentiment.pkl\", \"rb\"))\n",
    "    result = loaded_model.predict(to_predict)\n",
    "    return result[0]\n"
   ]
  },
  {
   "cell_type": "code",
   "execution_count": 77,
   "id": "156d5ed2-31e1-4cec-aa90-be8d19b3d35e",
   "metadata": {},
   "outputs": [
    {
     "data": {
      "text/plain": [
       "1"
      ]
     },
     "execution_count": 77,
     "metadata": {},
     "output_type": "execute_result"
    }
   ],
   "source": [
    "ValuePredictor('')"
   ]
  },
  {
   "cell_type": "code",
   "execution_count": 31,
   "id": "8a7c54f5-c644-4e39-8d3b-81dd38c48798",
   "metadata": {},
   "outputs": [],
   "source": [
    "import pickle\n",
    "pickle.dump(model,open('sentiment.pkl',\"wb\"))"
   ]
  },
  {
   "cell_type": "code",
   "execution_count": null,
   "id": "cad22a4a-1231-4d92-bcf8-01e94e985146",
   "metadata": {},
   "outputs": [],
   "source": [
    "def predict(text):\n",
    "    x = cv.transform([text]).toarray() # converting text to bag of words model (Vector)\n",
    "    lang = model.predict(x) # predicting the language\n",
    "    lang = le.inverse_transform(lang) # finding the language corresponding the the predicted value\n",
    "    print ('Customer Review:-', text,':','\\n' \"The Review is\", lang[0])"
   ]
  },
  {
   "cell_type": "code",
   "execution_count": null,
   "id": "6c32bc6e-5fb9-44ce-9a54-c5dc8442f6f0",
   "metadata": {},
   "outputs": [],
   "source": [
    "# predict(\"i hate your product\")\n",
    "# predict(\"your product is great\")\n",
    "# predict(\"i don't know what to say about your product\")"
   ]
  },
  {
   "cell_type": "code",
   "execution_count": 4,
   "id": "a1ad4746-2e8a-49c6-9a53-da3f8bdb6b68",
   "metadata": {},
   "outputs": [],
   "source": [
    "import nltk\n",
    "from nltk.sentiment.vader import SentimentIntensityAnalyzer\n",
    "\n",
    "#     text = \"come\"\n",
    "# nltk.download('vader_lexicon')\n",
    "\n",
    "def sentiment(text):\n",
    "    sid = SentimentIntensityAnalyzer()\n",
    "    score = ((sid.polarity_scores(str(text))))['compound']\n",
    "    if(score > 0):\n",
    "        label = 'This sentence is positive'\n",
    "    elif(score == 0):\n",
    "        label = 'This sentence is neutral'\n",
    "    else:\n",
    "        label = 'This sentence is negative'\n",
    "    print (f'Your text: {text}\\n{label}')"
   ]
  },
  {
   "cell_type": "code",
   "execution_count": 3,
   "id": "38b0ecd1-c56b-4212-9661-c69797cddb26",
   "metadata": {},
   "outputs": [
    {
     "name": "stdout",
     "output_type": "stream",
     "text": [
      "Your text: i can not go there today\n",
      "This sentence is neutral\n",
      "Your text: always feel good\n",
      "This sentence is positive\n",
      "Your text: i hate you\n",
      "This sentence is negative\n"
     ]
    }
   ],
   "source": [
    "sentiment('i can not go there today')\n",
    "sentiment('always feel good')\n",
    "sentiment('i hate you')"
   ]
  },
  {
   "cell_type": "code",
   "execution_count": null,
   "id": "3dd477a6-a7f3-4334-a70b-5f610342c205",
   "metadata": {},
   "outputs": [],
   "source": []
  }
 ],
 "metadata": {
  "kernelspec": {
   "display_name": "Python 3 (ipykernel)",
   "language": "python",
   "name": "python3"
  },
  "language_info": {
   "codemirror_mode": {
    "name": "ipython",
    "version": 3
   },
   "file_extension": ".py",
   "mimetype": "text/x-python",
   "name": "python",
   "nbconvert_exporter": "python",
   "pygments_lexer": "ipython3",
   "version": "3.8.8"
  }
 },
 "nbformat": 4,
 "nbformat_minor": 5
}
